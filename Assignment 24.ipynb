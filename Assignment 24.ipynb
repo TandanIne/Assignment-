{
 "cells": [
  {
   "cell_type": "code",
   "execution_count": null,
   "metadata": {},
   "outputs": [],
   "source": [
    "\n",
    "\n",
    "\n",
    "\n",
    "\n",
    "7. Name three or more ways that functions can communicate results to a caller."
   ]
  },
  {
   "cell_type": "code",
   "execution_count": null,
   "metadata": {},
   "outputs": [],
   "source": [
    "1. What is the relationship between def statements and lambda expressions ?\n",
    "Ans: \n",
    "      Lambda expression is implementation of expression in short.\n",
    "    Both does the same work except in function it can have many lines of code but in lambda it has one line of code"
   ]
  },
  {
   "cell_type": "code",
   "execution_count": null,
   "metadata": {},
   "outputs": [],
   "source": [
    "2. What is the benefit of lambda?\n",
    "Ans : It makes the code concise and compact."
   ]
  },
  {
   "cell_type": "code",
   "execution_count": null,
   "metadata": {},
   "outputs": [],
   "source": [
    "3. Compare and contrast map, filter, and reduce.\n",
    "Ans :-  Map - The map(function, iterable(s))  function iterates through all items in the given iterable and \n",
    "               executes the function we passed as an argument on each of them. \n",
    "        Filter - As the name suggests, filter(function, iterable(s)) forms a new list that contains only elements that satisfy a certain condition, \n",
    "                     i.e. the function we passed returns True.\n",
    "        Reduce - reduce(add, list) works differently than map() and filter(). It does not return a new list based on the function and\n",
    "                  iterable we've passed. Instead, it returns a single value."
   ]
  },
  {
   "cell_type": "code",
   "execution_count": null,
   "metadata": {},
   "outputs": [],
   "source": [
    "4. What are function annotations, and how are they used?\n",
    "Ans :\n",
    "      function annotantions are the below :\n",
    "    def func():\n",
    "        pass\n",
    "    In the blow way we use the function.\n",
    "    \n",
    "    func()"
   ]
  },
  {
   "cell_type": "code",
   "execution_count": null,
   "metadata": {},
   "outputs": [],
   "source": [
    "5. What are recursive functions, and how are they used?\n",
    "ans :\n",
    "    A function call itself during the executation of the code is called recursive function.\n",
    "    \n",
    "    Below is the sample how the recursive function is used\n",
    "    \n",
    "    def rec():\n",
    "        rec()\n",
    "        pass\n",
    "    rec()"
   ]
  },
  {
   "cell_type": "code",
   "execution_count": null,
   "metadata": {},
   "outputs": [],
   "source": [
    "6. What are some general design guidelines for coding functions?\n",
    "ANs:- Proper indentation should be followed\n",
    "    Naming of the func should be standard way\n",
    "    Exception handling should be done\n",
    "    Length of the function should not be very large"
   ]
  },
  {
   "cell_type": "code",
   "execution_count": null,
   "metadata": {},
   "outputs": [],
   "source": [
    "7. Name three or more ways that functions can communicate results to a caller.\n",
    " Ans :\n",
    "        1. It can pass the value by return statement\n",
    "        2. It can pass the value by using the global var\n",
    "        3. It can pass the value through the list which has the same reference in the func"
   ]
  }
 ],
 "metadata": {
  "kernelspec": {
   "display_name": "Python 3",
   "language": "python",
   "name": "python3"
  },
  "language_info": {
   "codemirror_mode": {
    "name": "ipython",
    "version": 3
   },
   "file_extension": ".py",
   "mimetype": "text/x-python",
   "name": "python",
   "nbconvert_exporter": "python",
   "pygments_lexer": "ipython3",
   "version": "3.7.4"
  }
 },
 "nbformat": 4,
 "nbformat_minor": 2
}
