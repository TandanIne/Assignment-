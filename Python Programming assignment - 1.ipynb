{
 "cells": [
  {
   "cell_type": "code",
   "execution_count": 1,
   "metadata": {},
   "outputs": [
    {
     "name": "stdout",
     "output_type": "stream",
     "text": [
      "Hello Python\n"
     ]
    }
   ],
   "source": [
    "#  1.\tWrite a Python program to print \"Hello Python\"?\n",
    "\n",
    "# Ans :-\n",
    "\n",
    "print(\"Hello Python\")"
   ]
  },
  {
   "cell_type": "code",
   "execution_count": 3,
   "metadata": {},
   "outputs": [
    {
     "name": "stdout",
     "output_type": "stream",
     "text": [
      "enter the first number for addition 4\n",
      "enter the second number for addition 5\n",
      "Addition of the given numer is  9\n",
      "enter the dividend  6\n",
      "enter the divisor 9\n",
      "Division of 6 and 8 is 0.6666666666666666\n"
     ]
    }
   ],
   "source": [
    "# 2.\tWrite a Python program to do arithmetical operations addition and division.?\n",
    "\n",
    "# Ans \n",
    "a = int(input(\"enter the first number for addition \"))\n",
    "b = int(input(\"enter the second number for addition \"))\n",
    "ad =  a+b\n",
    "print( \"Addition of the given numer is \", ad)\n",
    "x = int(input(\"enter the dividend  \"))\n",
    "y = int(input(\"enter the divisor \"))\n",
    "\n",
    "dv =  x /y\n",
    "print(\"Division of 6 and 8 is\",dv)"
   ]
  },
  {
   "cell_type": "code",
   "execution_count": 4,
   "metadata": {},
   "outputs": [
    {
     "name": "stdout",
     "output_type": "stream",
     "text": [
      "Enter the number for length4\n",
      "Enter the number for height5\n",
      "Area of the triangle is  10.0\n"
     ]
    }
   ],
   "source": [
    "# 3.\tWrite a Python program to find the area of a triangle?\n",
    "\n",
    "# Ans\n",
    "length = int(input(\"Enter the number for length\"))\n",
    "height = int(input(\"Enter the number for height\"))\n",
    "\n",
    "area = (1/2)*(length)*(height)\n",
    "\n",
    "print(\"Area of the triangle is \",area)\n",
    "\n"
   ]
  },
  {
   "cell_type": "code",
   "execution_count": 5,
   "metadata": {},
   "outputs": [
    {
     "name": "stdout",
     "output_type": "stream",
     "text": [
      "enter the first number to be swapped23\n",
      "enter the second number for the swapped34\n",
      "Values of the two variable after swapping the variables 34 23\n"
     ]
    }
   ],
   "source": [
    "#  4. Write a Python program to swap two variables?\n",
    "# Ans\n",
    "\n",
    "x = int(input(\"enter the first number to be swapped\"))\n",
    "y = int(input(\"enter the second number for the swapped\"))\n",
    "z = x\n",
    "x = y\n",
    "y = z\n",
    "\n",
    "print(\"Values of the two variable after swapping the variables\",x,y)\n"
   ]
  },
  {
   "cell_type": "code",
   "execution_count": 6,
   "metadata": {},
   "outputs": [
    {
     "name": "stdout",
     "output_type": "stream",
     "text": [
      "0.7397650760971757\n"
     ]
    }
   ],
   "source": [
    "#  5. Write a Python program to generate a random number?\n",
    "\n",
    "import random\n",
    "n = random.random()\n",
    "print(n)"
   ]
  },
  {
   "cell_type": "code",
   "execution_count": null,
   "metadata": {},
   "outputs": [],
   "source": []
  },
  {
   "cell_type": "code",
   "execution_count": null,
   "metadata": {},
   "outputs": [],
   "source": [
    "\n",
    "    "
   ]
  }
 ],
 "metadata": {
  "kernelspec": {
   "display_name": "Python 3",
   "language": "python",
   "name": "python3"
  },
  "language_info": {
   "codemirror_mode": {
    "name": "ipython",
    "version": 3
   },
   "file_extension": ".py",
   "mimetype": "text/x-python",
   "name": "python",
   "nbconvert_exporter": "python",
   "pygments_lexer": "ipython3",
   "version": "3.7.4"
  }
 },
 "nbformat": 4,
 "nbformat_minor": 2
}
