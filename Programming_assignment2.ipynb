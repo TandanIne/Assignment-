{
 "cells": [
  {
   "cell_type": "code",
   "execution_count": 1,
   "metadata": {},
   "outputs": [
    {
     "name": "stdout",
     "output_type": "stream",
     "text": [
      "enter the kilometer to convert in miles23\n",
      "23 km is equal to 14.2922 miles\n"
     ]
    }
   ],
   "source": [
    "# 1.\tWrite a Python program to convert kilometers to miles?\n",
    "def miles(km):\n",
    "    mil = .6214 * km\n",
    "    print(\"{} km is equal to {} miles\".format(km,mil))\n",
    "\n",
    "\n",
    "flag = True\n",
    "while flag:\n",
    "    try:\n",
    "        km = int(input(\"enter the kilometer to convert in miles\"))\n",
    "        break\n",
    "    except Exception as e:\n",
    "        print(\"Enter the integer number for km  to convert into miles\")\n",
    "miles(km)"
   ]
  },
  {
   "cell_type": "code",
   "execution_count": 3,
   "metadata": {},
   "outputs": [
    {
     "name": "stdout",
     "output_type": "stream",
     "text": [
      "enter the Celsius to convert in Fahrenheit27\n",
      "27 Celsius is equal to 80.6 Fahrenheit\n"
     ]
    }
   ],
   "source": [
    "#2  Write a Python program to convert Celsius to Fahrenheit?\n",
    "\n",
    "def Fahrenheit(cel):\n",
    "    far = (cel * (9/5)) +32\n",
    "    print(\"{} Celsius is equal to {} Fahrenheit\".format(cel,far))\n",
    "\n",
    "\n",
    "flag = True\n",
    "while flag:\n",
    "    try:\n",
    "        cel = int(input(\"enter the Celsius to convert in Fahrenheit\"))\n",
    "        break\n",
    "    except Exception as e:\n",
    "        print(\"Enter the integer number for km  to convert Celsius into Fahrenheit\")\n",
    "        \n",
    "Fahrenheit(cel)\n"
   ]
  },
  {
   "cell_type": "code",
   "execution_count": 9,
   "metadata": {},
   "outputs": [
    {
     "name": "stdout",
     "output_type": "stream",
     "text": [
      "enter the year for which you want to display the month2022\n",
      "enter the month for which the you want to display the calendar1\n",
      "    January 2022\n",
      "Mo Tu We Th Fr Sa Su\n",
      "                1  2\n",
      " 3  4  5  6  7  8  9\n",
      "10 11 12 13 14 15 16\n",
      "17 18 19 20 21 22 23\n",
      "24 25 26 27 28 29 30\n",
      "31\n",
      "\n"
     ]
    }
   ],
   "source": [
    "# 3 .\tWrite a Python program to display calendar?\n",
    "\n",
    "# ref https://www.programiz.com/python-programming/examples/display-calendar\n",
    "\n",
    "import calendar\n",
    "\n",
    "flag = True\n",
    "while flag:\n",
    "    try :\n",
    "        yy = int(input(\"enter the year for which you want to display the month\"))\n",
    "        break\n",
    "    except Exception as e:\n",
    "        print(\"You have entered the wrong, please enter the integer number for the year\")\n",
    "\n",
    "while flag:\n",
    "    try:\n",
    "        mm= int(input(\"enter the month for which the you want to display the calendar\"))\n",
    "        break\n",
    "    except Exception as e:\n",
    "        print(\"You have entered the wrong, please enter the integer number for the month\")\n",
    "\n",
    "\n",
    "print(calendar.month(yy,mm))\n",
    "\n"
   ]
  },
  {
   "cell_type": "code",
   "execution_count": 7,
   "metadata": {},
   "outputs": [
    {
     "name": "stdout",
     "output_type": "stream",
     "text": [
      "enter the number for the value of a2\n",
      "enter the number for the value of b3\n",
      "enter the number for the value of c4\n",
      "Solution of the given quadratic equation is complex number which is  -0.75+4.795831523312719i/4 and -0.75-4.795831523312719i/4\n"
     ]
    }
   ],
   "source": [
    "# 4  Write a Python program to solve quadratic equation?\n",
    "import math\n",
    "flag = True\n",
    "while flag:\n",
    "    try:\n",
    "        a = int(input(\"enter the number for the value of a\"))\n",
    "        break\n",
    "    except Exception as e:\n",
    "        print(\"You have entered the wrong number, please enter the integer number for the value of a\")\n",
    "\n",
    "while flag:\n",
    "    try:\n",
    "        b = int(input(\"enter the number for the value of b\"))\n",
    "        break\n",
    "    except Exception as e:\n",
    "        print(\"you have entered the wrong number, please enter the integer number for the value of b\")\n",
    "\n",
    "while flag:\n",
    "    try:\n",
    "        c =int(input(\"enter the number for the value of c\"))\n",
    "        break\n",
    "    except Exception as e:\n",
    "        print(\"you have entered the wrong number, please enter the integer number for the value of c\")\n",
    "\n",
    "def qe(a,b,c):\n",
    "    try:\n",
    "        flag = False\n",
    "        z = ((b*b) - (4*a*c))\n",
    "        if(z < 0) :\n",
    "            z = z *-1\n",
    "            flag = True\n",
    "\n",
    "        if (z == 0):\n",
    "            x1 = (-b )/(2 *a)\n",
    "            print(\"Solution of the given quadratic equation is  \", x1)\n",
    "        if(flag):\n",
    "            sqrtn = math.sqrt(z)\n",
    "            x1 = str(-b/(2*a))+'+'+(str(sqrtn)+ 'i'+'/'+str(2*a))\n",
    "            x2 = str(-b/(2*a)) + '-'+(str(sqrtn)+ 'i'+'/'+str(2*a))\n",
    "            print(\"Solution of the given quadratic equation is complex number which is  {} and {}\".format(x1,x2))\n",
    "        else:\n",
    "            sqrtn = math.sqrt(z)\n",
    "            x1 = (-b - sqrtn)/(2 *a)\n",
    "            x2 = (-b + sqrtn)/(2 *a)                  \n",
    "            print(\"Solution of the given quadratic equation is {} and {}\".format(x1,x2))\n",
    "    except Exception as e:\n",
    "        print(\"Error has been occured and the error is \",e)                      \n",
    "        \n",
    "\n",
    "\n",
    "\n",
    "qe(a,b,c)\n"
   ]
  },
  {
   "cell_type": "code",
   "execution_count": 8,
   "metadata": {},
   "outputs": [
    {
     "name": "stdout",
     "output_type": "stream",
     "text": [
      "Enter the first number to be swapped2\n",
      "Enter the second number to be swapped3\n",
      "Swapped numbers are 3 and 2 without using the temp variable \n"
     ]
    }
   ],
   "source": [
    "# 5 Write a Python program to swap two variables without temp variable?\n",
    "flag = True\n",
    "while flag:\n",
    "    try:\n",
    "        x = int(input(\"Enter the first number to be swapped\"))\n",
    "        break\n",
    "    except Exception as e:\n",
    "        print(\"You have entered the wrong , please enter the integer number\")\n",
    "while flag:\n",
    "    try:\n",
    "        y = int(input(\"Enter the second number to be swapped\"))\n",
    "        break\n",
    "    except Exception as e:\n",
    "        print(\"You have entered the wrong, Please enter the integer number\")\n",
    "\n",
    "x= x+y\n",
    "y = x -y\n",
    "x = x - y\n",
    "\n",
    "print(\"Swapped numbers are {} and {} without using the temp variable \".format(x,y))\n"
   ]
  },
  {
   "cell_type": "code",
   "execution_count": null,
   "metadata": {},
   "outputs": [],
   "source": []
  }
 ],
 "metadata": {
  "kernelspec": {
   "display_name": "Python 3",
   "language": "python",
   "name": "python3"
  },
  "language_info": {
   "codemirror_mode": {
    "name": "ipython",
    "version": 3
   },
   "file_extension": ".py",
   "mimetype": "text/x-python",
   "name": "python",
   "nbconvert_exporter": "python",
   "pygments_lexer": "ipython3",
   "version": "3.7.4"
  }
 },
 "nbformat": 4,
 "nbformat_minor": 2
}
