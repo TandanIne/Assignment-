{
 "cells": [
  {
   "cell_type": "code",
   "execution_count": null,
   "metadata": {},
   "outputs": [],
   "source": [
    "1. How do you distinguish between shutil.copy() and shutil.copytree()?\n",
    "ANs :- shutil.copy() - It will copy only one file from one location to other location\n",
    "       shutil.copytree() :- It will coopy all the files and folders from one location to other locatiion"
   ]
  },
  {
   "cell_type": "code",
   "execution_count": null,
   "metadata": {},
   "outputs": [],
   "source": [
    "2. What function is used to rename files??\n",
    "Ans - os.rename(oldname,newname)"
   ]
  },
  {
   "cell_type": "code",
   "execution_count": null,
   "metadata": {},
   "outputs": [],
   "source": [
    "3. What is the difference between the delete functions in the send2trash and shutil modules?\n",
    "Ans:- send2trash - It will move the file to recycle bin\n",
    "      shuting modules - it will permanentaly delete the files"
   ]
  },
  {
   "cell_type": "code",
   "execution_count": null,
   "metadata": {},
   "outputs": [],
   "source": [
    "4.ZipFile objects have a close() method just like File objects’ close() method.\n",
    "What ZipFile method is equivalent to File objects’ open() method?\n",
    "Ans:-  open method - zipfile.ZipFile()"
   ]
  },
  {
   "cell_type": "code",
   "execution_count": null,
   "metadata": {},
   "outputs": [],
   "source": [
    "5. Create a programme that searches a folder tree for files with a certain file extension (such as .pdf or .jpg). Copy these files from whatever location they are in to a new folder.\n",
    "Ans:-\n",
    "    \n",
    "    "
   ]
  },
  {
   "cell_type": "code",
   "execution_count": 14,
   "metadata": {},
   "outputs": [],
   "source": [
    "import shutil, os ,logging\n",
    "logging.basicConfig(filename='Log_File.log',level=logging.DEBUG, format='%(asctime)s %(levelname)s %(message)s')\n",
    "\n",
    "def tomove(oldpath,newpath,ext):\n",
    "    \n",
    "    try:\n",
    "        logging.info(\"This is the start of the function : tomove\")\n",
    "        logging.info(\"Source path for the copy is \"+oldpath)\n",
    "        logging.info(\"Target path for the copy is \"+newpath)\n",
    "        logging.info(\"Files having extension   \"+ext+\"  needs to placed iin the target position\")\n",
    "        source_file_name =  os.listdir()\n",
    "        for val in source_file_name:\n",
    "            \n",
    "            temp = val.split(\".\")\n",
    "            if( val.startswith('.')) :  \n",
    "                continue\n",
    "            elif len(temp) == 1 :\n",
    "                continue\n",
    "            elif(temp[1] == 'txt') :\n",
    "                temp_oldfile = oldpath+\"/\"+val\n",
    "                shutil.copy(temp_oldfile,newpath)\n",
    "                logging.info(\"File \"+temp_oldfile+\"has been transferred to place \"+newpath)\n",
    "                logging.info(\"Execution successful\")\n",
    " \n",
    "    except Exception as e:\n",
    "            print(\"error has happened, please check into the log file\")\n",
    "            logging.error(\"Error has happened\")\n",
    "            logging.exception(str(e))\n",
    "\n",
    "\n",
    "old= 'C:/Users/tanda/OneDrive/Desktop/Assignment/python basic'\n",
    "new = 'C:/Users/tanda/OneDrive/Desktop/Assignment/python basic/2'\n",
    "ext = \"txt\"            \n",
    "        \n",
    "tomove(old,new,ext)        \n",
    "        \n"
   ]
  },
  {
   "cell_type": "code",
   "execution_count": 12,
   "metadata": {},
   "outputs": [],
   "source": []
  }
 ],
 "metadata": {
  "kernelspec": {
   "display_name": "Python 3",
   "language": "python",
   "name": "python3"
  },
  "language_info": {
   "codemirror_mode": {
    "name": "ipython",
    "version": 3
   },
   "file_extension": ".py",
   "mimetype": "text/x-python",
   "name": "python",
   "nbconvert_exporter": "python",
   "pygments_lexer": "ipython3",
   "version": "3.7.4"
  }
 },
 "nbformat": 4,
 "nbformat_minor": 2
}
