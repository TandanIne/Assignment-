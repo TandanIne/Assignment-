{
 "cells": [
  {
   "cell_type": "code",
   "execution_count": null,
   "metadata": {},
   "outputs": [],
   "source": [
    " 1.What are the two values of the Boolean data type? How do you write them?\n",
    "\n",
    "Ans :\n",
    "Two values of the boolean data types are below:\n",
    "True\n",
    "False\n",
    "\n",
    "They are written like below:\n",
    "True\n",
    "False\n",
    "\n",
    "\n"
   ]
  },
  {
   "cell_type": "code",
   "execution_count": null,
   "metadata": {},
   "outputs": [],
   "source": [
    "2. What are the three different types of Boolean operators?\n",
    "\n",
    "Ans: Below are the three boolean operators \n",
    "and\n",
    "or \n",
    "not\n"
   ]
  },
  {
   "cell_type": "code",
   "execution_count": null,
   "metadata": {},
   "outputs": [],
   "source": [
    "3. Make a list of each Boolean operator's truth tables \n",
    "(i.e. every possible combination of Boolean values for the operator and what it evaluate ).\n",
    "\n",
    "Ans:\n",
    "\n",
    "and\n",
    "\n",
    "True and True = True\n",
    "True and False = False\n",
    "False and True = False\n",
    "False and False = False\n",
    "\n",
    "or\n",
    "\n",
    "True or True = True\n",
    "True or False = True\n",
    "False or True = True\n",
    "False or False = False\n",
    "\n",
    "not\n",
    "\n",
    "not True = False\n",
    "not False = True\n"
   ]
  },
  {
   "cell_type": "code",
   "execution_count": null,
   "metadata": {},
   "outputs": [],
   "source": [
    "4. What are the values of the following expressions?\n",
    "\n",
    "(5 > 4) and (3 == 5)\n",
    "\n",
    "Ans :- False\n",
    "    \n",
    "not (5 > 4)\n",
    "\n",
    "Ans - False\n",
    "\n",
    "(5 > 4) or (3 == 5)\n",
    "\n",
    "Ans - True\n",
    "\n",
    "not ((5 > 4) or (3 == 5))\n",
    "\n",
    "Ans False\n",
    "\n",
    "(True and True) and (True == False)\n",
    "\n",
    "Ans False\n",
    "\n",
    "(not False) or (not True)\n",
    "\n",
    "Ans True\n",
    "\n"
   ]
  },
  {
   "cell_type": "code",
   "execution_count": null,
   "metadata": {},
   "outputs": [],
   "source": [
    " 5. What are the six comparison operators?\n",
    "Ans - \n",
    "\n",
    "=,!=, >,<,>=,<="
   ]
  },
  {
   "cell_type": "code",
   "execution_count": null,
   "metadata": {},
   "outputs": [],
   "source": [
    "6. How do you tell the difference between the equal to and assignment operators?\n",
    "Describe a condition and when you would use one.\n",
    "\n",
    "Ans:\n",
    "    \n",
    "Equal to operator has two '=='  and assigment oprator has one '='.\n",
    "\n",
    "When we are checking whether two values are same or not then we use equal to operator and in case of assigning \n",
    "some values to variable then assignment operator is used\n",
    "\n"
   ]
  },
  {
   "cell_type": "code",
   "execution_count": null,
   "metadata": {},
   "outputs": [],
   "source": [
    "7. Identify the three blocks in this code:\n",
    "spam = 0\n",
    "if spam == 10:\n",
    "print('eggs')\n",
    "if spam > 5:\n",
    "print('bacon')\n",
    "else:\n",
    "print('ham')\n",
    "print('spam')\n",
    "print('spam')\n",
    "\n",
    "\n",
    "Ans :\n",
    "\n",
    "spam = 0\n",
    "\n",
    "# Block 1\n",
    "if spam == 10:\n",
    "    print('eggs')\n",
    "\n",
    "#Block 2\n",
    "if spam > 5:\n",
    "    print('bacon')\n",
    "    \n",
    "#Block 3\n",
    "else:\n",
    "    print('ham')\n",
    "    print('spam')\n",
    "    print('spam')"
   ]
  },
  {
   "cell_type": "code",
   "execution_count": 1,
   "metadata": {},
   "outputs": [
    {
     "name": "stdout",
     "output_type": "stream",
     "text": [
      "Enter the value for the spam2\n",
      "Howdy\n"
     ]
    }
   ],
   "source": [
    "#8. Write code that prints Hello if 1 is stored in spam, prints Howdy if 2 is stored in spam, and prints Greetings!\n",
    "#   if anything else is stored in spam.\n",
    "\n",
    "flag = True \n",
    "while flag:\n",
    "    try:\n",
    "        spam = int(input(\"Enter the value for the spam\"))\n",
    "        if (spam == 1):\n",
    "            print('Hello')\n",
    "        elif(spam ==2):\n",
    "            print(\"Howdy\")\n",
    "        else:\n",
    "            print(\"Greetings\")\n",
    "        break\n",
    "        \n",
    "        \n",
    "        break\n",
    "    except Exception as e:\n",
    "         print(\"Greetings!\")\n",
    "\n",
    "        "
   ]
  },
  {
   "cell_type": "code",
   "execution_count": null,
   "metadata": {},
   "outputs": [],
   "source": [
    "9.If your programme is stuck in an endless loop, what keys you’ll press?\n",
    "\n",
    "ANs -\n",
    "\n",
    "i button from the keyboard"
   ]
  },
  {
   "cell_type": "code",
   "execution_count": null,
   "metadata": {},
   "outputs": [],
   "source": [
    "\n",
    "10. How can you tell the difference between break and continue?\n",
    "Ans :\n",
    "    \n",
    "break - code comes out of the loop from the point where break statement occurs\n",
    "continue :  Code start running from the begining when it encounters continue statement without \n",
    "              executing the later code in the loop"
   ]
  },
  {
   "cell_type": "code",
   "execution_count": null,
   "metadata": {},
   "outputs": [],
   "source": [
    "11. In a for loop, what is the difference between range(10), range(0, 10), and range(0, 10, 1)?\n",
    "\n",
    "Ans\n",
    "range(10) - here end point is mentioned as 10 and python considers starting point as 0 and stepsize as 1 excluding 10\n",
    "range(0, 10) - here start and end point is mentioned as 0 and 10 and python considers stepo size as 1 excluding 10\n",
    "range(0,10,1)- here start point is 0, end point as 10 and step size is 1 excluding 10\n"
   ]
  },
  {
   "cell_type": "code",
   "execution_count": 8,
   "metadata": {},
   "outputs": [
    {
     "name": "stdout",
     "output_type": "stream",
     "text": [
      "0\n",
      "1\n",
      "2\n",
      "3\n",
      "4\n",
      "5\n",
      "6\n",
      "7\n",
      "8\n",
      "9\n"
     ]
    }
   ],
   "source": [
    "#12. Write a short program that prints the numbers 1 to 10 using a for loop. Then write an equivalent program that prints the numbers 1 to 10 using a while loop.\n",
    "\n",
    "count =0\n",
    "while(count < 10):\n",
    "    print(count)\n",
    "    count = count+1\n",
    "    "
   ]
  },
  {
   "cell_type": "code",
   "execution_count": null,
   "metadata": {},
   "outputs": [],
   "source": [
    "13. If you had a function named bacon() inside a module named spam, how would you call it after importing spam?\n",
    "Ans - \n",
    "\n",
    "spam.bacon()"
   ]
  },
  {
   "cell_type": "code",
   "execution_count": null,
   "metadata": {},
   "outputs": [],
   "source": []
  },
  {
   "cell_type": "code",
   "execution_count": null,
   "metadata": {},
   "outputs": [],
   "source": []
  }
 ],
 "metadata": {
  "kernelspec": {
   "display_name": "Python 3",
   "language": "python",
   "name": "python3"
  },
  "language_info": {
   "codemirror_mode": {
    "name": "ipython",
    "version": 3
   },
   "file_extension": ".py",
   "mimetype": "text/x-python",
   "name": "python",
   "nbconvert_exporter": "python",
   "pygments_lexer": "ipython3",
   "version": "3.7.4"
  }
 },
 "nbformat": 4,
 "nbformat_minor": 2
}
