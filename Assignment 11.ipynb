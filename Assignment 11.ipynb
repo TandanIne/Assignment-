{
 "cells": [
  {
   "cell_type": "code",
   "execution_count": null,
   "metadata": {},
   "outputs": [],
   "source": [
    "1. Create an assert statement that throws an AssertionError if the variable spam is a negative integer.\n",
    "Ans:- \n",
    "    \n",
    "    def asserterror(n):\n",
    "   \n",
    "    if(n>0):\n",
    "        print(\"you have entered the correct number\")\n",
    "    else:\n",
    "        s = \" AssertionError has happened\"\n",
    "        raise Exception(s)\n",
    "\n",
    "    return s\n",
    "asserterror(-10)"
   ]
  },
  {
   "cell_type": "code",
   "execution_count": null,
   "metadata": {},
   "outputs": [],
   "source": [
    "2. Write an assert statement that triggers an AssertionError if the variables eggs and\n",
    "   bacon contain strings that are the same as each other, even if their cases are different\n",
    "    (that is, 'hello' and 'hello' are considered the same, and 'goodbye' and 'GOODbye' are also considered the same).\n",
    "\n",
    "    ANs:-\n",
    "\n",
    "def asserterror(eggs, bacon):\n",
    "    s= \"Input strings are differenct\"\n",
    "    if(eggs.lower() == bacon.lower()):\n",
    "        s = \" AssertionError has happened\"\n",
    "        raise Exception(s)\n",
    "\n",
    "    return s\n",
    "eggs = 'hello'\n",
    "bacon ='HELLO'\n",
    "asserterror(eggs, bacon)"
   ]
  },
  {
   "cell_type": "code",
   "execution_count": null,
   "metadata": {},
   "outputs": [],
   "source": [
    "3. Create an assert statement that throws an AssertionError every time.\n",
    "ANs:- \n",
    "    def asserterror():\n",
    "        s = \" AssertionError has happened\"\n",
    "        raise Exception(s)\n",
    "        return s\n",
    "\n",
    "asserterror()"
   ]
  },
  {
   "cell_type": "code",
   "execution_count": null,
   "metadata": {},
   "outputs": [],
   "source": [
    "4. What are the two lines that must be present in your software in order to call logging.debug()?\n",
    "ANs:- \n",
    "     Below are the two statements needs to be present:\n",
    "            1. Import logging\n",
    "            2. logging.basicConfig(filename=\"test3.log\",level=logging.DEBUG,format=\"%(asctime)s  %(levelname)s   %(message)s\")"
   ]
  },
  {
   "cell_type": "code",
   "execution_count": null,
   "metadata": {},
   "outputs": [],
   "source": [
    "5. What are the two lines that your program must have in order to have logging.debug() send a logging message to a file named programLog.txt?\n",
    "ANs: \n",
    "    Below are the two statements needs to be present:\n",
    "            1. Import logging\n",
    "            2. logging.basicConfig(filename=\"test3.log\",level=logging.DEBUG,format=\"%(asctime)s  %(levelname)s   %(message)s\")"
   ]
  },
  {
   "cell_type": "code",
   "execution_count": null,
   "metadata": {},
   "outputs": [],
   "source": [
    "6. What are the five levels of logging?\n",
    "Ans:-\n",
    "    Logging.DEBUG()\n",
    "    logging.INFO()\n",
    "    logging.WARNING()\n",
    "    logging.ERROR()\n",
    "    logging.EXCEPTION()"
   ]
  },
  {
   "cell_type": "code",
   "execution_count": null,
   "metadata": {},
   "outputs": [],
   "source": [
    "7. What line of code would you add to your software to disable all logging messages?\n",
    "Ans:- \n",
    "    logging.disable(logging.CRITICAL)"
   ]
  },
  {
   "cell_type": "code",
   "execution_count": null,
   "metadata": {},
   "outputs": [],
   "source": [
    "8.Why is using logging messages better than using print() to display the same message?\n",
    "Ans:- \n",
    "      logging messages gives the timestamp when the error happened.\n",
    "      We can increase and decrease the severity of the logging level with one line of command.\n",
    "      We can enable and disable the logging message with one line of command. "
   ]
  },
  {
   "cell_type": "code",
   "execution_count": null,
   "metadata": {},
   "outputs": [],
   "source": [
    "9. What are the differences between the Step Over, Step In, and Step Out buttons in the debugger?\n",
    "Ans :- \n",
    "     Step Over :- This helps the debugger to ignore the function which has been called in next line and proceed to other line of code\n",
    "     Step IN - This helps the debugger to move into every function which has been called.\n",
    "     Step out - This helps  the debugger to skip all the rows and execute the return function."
   ]
  },
  {
   "cell_type": "code",
   "execution_count": null,
   "metadata": {},
   "outputs": [],
   "source": [
    "10.After you click Continue, when will the debugger stop ?\n",
    "Ans:- After completely executing the code\n",
    "    "
   ]
  },
  {
   "cell_type": "code",
   "execution_count": 7,
   "metadata": {},
   "outputs": [],
   "source": [
    "11. What is the concept of a breakpoint?\n",
    "Ans:- Breakpoint is the setting in the program where debugger stops when the code runs "
   ]
  },
  {
   "cell_type": "code",
   "execution_count": null,
   "metadata": {},
   "outputs": [],
   "source": []
  }
 ],
 "metadata": {
  "kernelspec": {
   "display_name": "Python 3",
   "language": "python",
   "name": "python3"
  },
  "language_info": {
   "codemirror_mode": {
    "name": "ipython",
    "version": 3
   },
   "file_extension": ".py",
   "mimetype": "text/x-python",
   "name": "python",
   "nbconvert_exporter": "python",
   "pygments_lexer": "ipython3",
   "version": "3.7.4"
  }
 },
 "nbformat": 4,
 "nbformat_minor": 2
}
