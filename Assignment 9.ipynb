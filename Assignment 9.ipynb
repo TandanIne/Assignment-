{
 "cells": [
  {
   "cell_type": "code",
   "execution_count": null,
   "metadata": {},
   "outputs": [],
   "source": [
    "1. To what does a relative path refer?\n",
    "Ans :-Relative refers to the location that is relative to current location."
   ]
  },
  {
   "cell_type": "code",
   "execution_count": null,
   "metadata": {},
   "outputs": [],
   "source": [
    "2. What does an absolute path start with your operating system?\n",
    "Ans - An absolute path referes to the complete details needed to locate a file or directory.\n",
    "     It will start from the root element to various directory"
   ]
  },
  {
   "cell_type": "code",
   "execution_count": null,
   "metadata": {},
   "outputs": [],
   "source": [
    "3. What do the functions os.getcwd() and os.chdir() do?\n",
    "Ans\n",
    "    os.getcwd()  - it will give the present directory\n",
    "    os.chdir() - it will help to change the directory"
   ]
  },
  {
   "cell_type": "code",
   "execution_count": null,
   "metadata": {},
   "outputs": [],
   "source": [
    "4. What are the . and .. folders?\n",
    "ans :  . - referes to present directory\n",
    "       .. - referes to parent directory"
   ]
  },
  {
   "cell_type": "code",
   "execution_count": null,
   "metadata": {},
   "outputs": [],
   "source": [
    "5. In C:\\bacon\\eggs\\spam.txt, which part is the dir name, and which part is the base name?\n",
    "Ans :- \n",
    "    \n",
    "    C:\\ - Base name \n",
    "    bacon  - Directory name \n",
    "    eggs - Directory name"
   ]
  },
  {
   "cell_type": "code",
   "execution_count": null,
   "metadata": {},
   "outputs": [],
   "source": [
    "6. What are the three “mode” arguments that can be passed to the open() function?\n",
    "Ans  three “mode” arguments that can be passed to the open() function?  -  read('r'), write(\"w\") ,append(\"a\")"
   ]
  },
  {
   "cell_type": "code",
   "execution_count": 9,
   "metadata": {},
   "outputs": [],
   "source": [
    "7. What happens if an existing file is opened in write mode?\n",
    "ANs:- Existing file contetnts are discarded and it opens as empty file."
   ]
  },
  {
   "cell_type": "code",
   "execution_count": null,
   "metadata": {},
   "outputs": [],
   "source": [
    "8. How do you tell the difference between read() and readlines()?\n",
    "Ans:- \n",
    "    read(): when read() function is used, it will print all the content of the file at the same time\n",
    "    readlines(): it will print the file content line by line"
   ]
  },
  {
   "cell_type": "code",
   "execution_count": null,
   "metadata": {},
   "outputs": [],
   "source": [
    "9. What data structure does a shelf value resemble?\n",
    "Ans:- shelf value resembles to dictionary value\n",
    "    "
   ]
  },
  {
   "cell_type": "code",
   "execution_count": null,
   "metadata": {},
   "outputs": [],
   "source": []
  }
 ],
 "metadata": {
  "kernelspec": {
   "display_name": "Python 3",
   "language": "python",
   "name": "python3"
  },
  "language_info": {
   "codemirror_mode": {
    "name": "ipython",
    "version": 3
   },
   "file_extension": ".py",
   "mimetype": "text/x-python",
   "name": "python",
   "nbconvert_exporter": "python",
   "pygments_lexer": "ipython3",
   "version": "3.7.4"
  }
 },
 "nbformat": 4,
 "nbformat_minor": 2
}
