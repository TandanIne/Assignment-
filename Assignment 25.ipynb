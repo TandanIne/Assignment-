{
 "cells": [
  {
   "cell_type": "code",
   "execution_count": null,
   "metadata": {},
   "outputs": [],
   "source": [
    "1) . What is the difference between enclosing a list comprehension in square brackets and parentheses?\n",
    " ans :\n",
    "        in square bracket it creates the list\n",
    "        in parentheses it creates the generator\n",
    "         "
   ]
  },
  {
   "cell_type": "code",
   "execution_count": 4,
   "metadata": {},
   "outputs": [],
   "source": [
    "2) What is the relationship between generators and iterators?\n",
    "Ans :-  Iterator - Iterators are used mostly to iterate or convert other objects to an iterator using iter() function.\n",
    "        generators - Generators are mostly used in loops to generate an iterator by returning all the values\n",
    "        in the loop without affecting the iteration of the loop"
   ]
  },
  {
   "cell_type": "code",
   "execution_count": null,
   "metadata": {},
   "outputs": [],
   "source": [
    "3) What are the signs that a function is a generator function?\n",
    "Ans :- If a function contains at least one yield statement then generatoe function"
   ]
  },
  {
   "cell_type": "code",
   "execution_count": null,
   "metadata": {},
   "outputs": [],
   "source": [
    "4) What is the purpose of a yield statement?\n",
    "Ans :- The yield statement suspends function's execution and sends a value back to the caller, \n",
    "      but retains enough state to enable function to resume where it is left off."
   ]
  },
  {
   "cell_type": "code",
   "execution_count": null,
   "metadata": {},
   "outputs": [],
   "source": [
    "5. What is the relationship between map calls and list comprehensions?\n",
    "     Make a comparison and contrast between the two.\n",
    "Ans :-   \n",
    "    Map calls and list comprehension are almost same except in map we call func and in list comprehension function is itself defines \n",
    "    List comprehension is more concise and easier to read as compared to map.\n",
    "    List comprehension allows filtering. In map, we have no such facility. For example, to print all even numbers in range of 100, we can write [n for n in range(100) if n%2 == 0]. There is no alternate for it in map\n",
    "    List comprehension are used when a list of results is required as map only returns a map object and does not return any list.\n",
    "    List comprehension is faster than map when we need to evaluate expressions that are too long or complicated to express"
   ]
  }
 ],
 "metadata": {
  "kernelspec": {
   "display_name": "Python 3",
   "language": "python",
   "name": "python3"
  },
  "language_info": {
   "codemirror_mode": {
    "name": "ipython",
    "version": 3
   },
   "file_extension": ".py",
   "mimetype": "text/x-python",
   "name": "python",
   "nbconvert_exporter": "python",
   "pygments_lexer": "ipython3",
   "version": "3.7.4"
  }
 },
 "nbformat": 4,
 "nbformat_minor": 2
}
